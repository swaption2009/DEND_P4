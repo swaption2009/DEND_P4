{
 "cells": [
  {
   "cell_type": "code",
   "execution_count": 1,
   "metadata": {},
   "outputs": [],
   "source": [
    "import boto3\n",
    "import configparser\n",
    "import os\n",
    "import json\n",
    "\n",
    "from pyspark.sql import SparkSession, SQLContext\n",
    "from pyspark.sql.types import StringType, TimestampType\n",
    "from pyspark.sql.functions import unix_timestamp, from_unixtime, year, month, dayofmonth, \\\n",
    "                                  dayofyear, hour, weekofyear, date_format, \\\n",
    "                                  monotonically_increasing_id"
   ]
  },
  {
   "cell_type": "code",
   "execution_count": 2,
   "metadata": {},
   "outputs": [],
   "source": [
    "spark = SparkSession \\\n",
    "    .builder \\\n",
    "    .appName('DEND P4') \\\n",
    "    .getOrCreate()"
   ]
  },
  {
   "cell_type": "markdown",
   "metadata": {},
   "source": [
    "## Connect to AWS"
   ]
  },
  {
   "cell_type": "code",
   "execution_count": 41,
   "metadata": {},
   "outputs": [],
   "source": [
    "config = configparser.ConfigParser()\n",
    "config.read('dl.cfg')\n",
    "\n",
    "access_key = config.get('IAM', 'AWS_ACCESS_KEY_ID')\n",
    "secret_key = config.get('IAM', 'AWS_SECRET_ACCESS_KEY')"
   ]
  },
  {
   "cell_type": "code",
   "execution_count": 4,
   "metadata": {},
   "outputs": [],
   "source": [
    "s3 = boto3.resource('s3')\n",
    "\n",
    "content_object = s3.Object('udacity-dend', 'song_data/A/B/C/TRABCEI128F424C983.json')\n",
    "file_content = content_object.get()['Body'].read().decode('utf-8')\n",
    "json_content = json.loads(file_content)\n",
    "# print(json_content)"
   ]
  },
  {
   "cell_type": "code",
   "execution_count": 5,
   "metadata": {},
   "outputs": [],
   "source": [
    "s3.Bucket('udacity-dend').download_file('song_data/A/B/C/TRABCEI128F424C983.json', 'songs_data.json')"
   ]
  },
  {
   "cell_type": "code",
   "execution_count": 6,
   "metadata": {},
   "outputs": [],
   "source": [
    "content_object2 = s3.Object('udacity-dend', 'log-data/2018/11/2018-11-01-events.json')\n",
    "file_content2 = content_object2.get()['Body'].read().decode('utf-8')\n",
    "# print(file_content2)"
   ]
  },
  {
   "cell_type": "code",
   "execution_count": 7,
   "metadata": {},
   "outputs": [],
   "source": [
    "s3.Bucket('udacity-dend').download_file('log-data/2018/11/2018-11-01-events.json', 'logs_data.json')"
   ]
  },
  {
   "cell_type": "markdown",
   "metadata": {},
   "source": [
    "## Songs Data"
   ]
  },
  {
   "cell_type": "code",
   "execution_count": 8,
   "metadata": {},
   "outputs": [
    {
     "name": "stdout",
     "output_type": "stream",
     "text": [
      "+------------------+---------------+---------------+----------------+-----------+---------+---------+------------------+-------------------+----+\n",
      "|         artist_id|artist_latitude|artist_location|artist_longitude|artist_name| duration|num_songs|           song_id|              title|year|\n",
      "+------------------+---------------+---------------+----------------+-----------+---------+---------+------------------+-------------------+----+\n",
      "|ARJIE2Y1187B994AB7|           null|               |            null|Line Renaud|152.92036|        1|SOUPIRU12A6D4FA1E1|Der Kleine Dompfaff|   0|\n",
      "+------------------+---------------+---------------+----------------+-----------+---------+---------+------------------+-------------------+----+\n",
      "\n"
     ]
    }
   ],
   "source": [
    "df_songs = spark.read.json('songs_data.json')\n",
    "df_songs.show()"
   ]
  },
  {
   "cell_type": "code",
   "execution_count": 9,
   "metadata": {},
   "outputs": [
    {
     "name": "stdout",
     "output_type": "stream",
     "text": [
      "root\n",
      " |-- artist_id: string (nullable = true)\n",
      " |-- artist_latitude: string (nullable = true)\n",
      " |-- artist_location: string (nullable = true)\n",
      " |-- artist_longitude: string (nullable = true)\n",
      " |-- artist_name: string (nullable = true)\n",
      " |-- duration: double (nullable = true)\n",
      " |-- num_songs: long (nullable = true)\n",
      " |-- song_id: string (nullable = true)\n",
      " |-- title: string (nullable = true)\n",
      " |-- year: long (nullable = true)\n",
      "\n"
     ]
    }
   ],
   "source": [
    "df_songs.printSchema()"
   ]
  },
  {
   "cell_type": "markdown",
   "metadata": {},
   "source": [
    "#### Songs Table"
   ]
  },
  {
   "cell_type": "code",
   "execution_count": 10,
   "metadata": {},
   "outputs": [
    {
     "name": "stdout",
     "output_type": "stream",
     "text": [
      "+----+------------------+------------------+-------------------+---------+\n",
      "|year|         artist_id|           song_id|              title| duration|\n",
      "+----+------------------+------------------+-------------------+---------+\n",
      "|   0|ARJIE2Y1187B994AB7|SOUPIRU12A6D4FA1E1|Der Kleine Dompfaff|152.92036|\n",
      "+----+------------------+------------------+-------------------+---------+\n",
      "\n"
     ]
    }
   ],
   "source": [
    "songs_table = df_songs.select('year', 'artist_id', 'song_id', 'title', 'duration')\n",
    "songs_table.show()"
   ]
  },
  {
   "cell_type": "code",
   "execution_count": 11,
   "metadata": {},
   "outputs": [],
   "source": [
    "songs_table.write.partitionBy('year', 'artist_id').parquet('songs.parquet', mode='overwrite')"
   ]
  },
  {
   "cell_type": "code",
   "execution_count": 12,
   "metadata": {},
   "outputs": [],
   "source": [
    "# a = spark.read.parquet('song_parquet.parquet')\n",
    "# a.show()"
   ]
  },
  {
   "cell_type": "markdown",
   "metadata": {},
   "source": [
    "#### Artists Table"
   ]
  },
  {
   "cell_type": "code",
   "execution_count": 13,
   "metadata": {},
   "outputs": [
    {
     "name": "stdout",
     "output_type": "stream",
     "text": [
      "+------------------+-----------+---------------+---------------+----------------+\n",
      "|         artist_id|artist_name|artist_location|artist_latitude|artist_longitude|\n",
      "+------------------+-----------+---------------+---------------+----------------+\n",
      "|ARJIE2Y1187B994AB7|Line Renaud|               |           null|            null|\n",
      "+------------------+-----------+---------------+---------------+----------------+\n",
      "\n"
     ]
    }
   ],
   "source": [
    "artists_table = df_songs.select('artist_id', 'artist_name', 'artist_location', 'artist_latitude', 'artist_longitude')\n",
    "artists_table.show()"
   ]
  },
  {
   "cell_type": "code",
   "execution_count": 14,
   "metadata": {},
   "outputs": [],
   "source": [
    "artists_table.write.partitionBy('artist_id').parquet('artists.parquet', mode='overwrite')"
   ]
  },
  {
   "cell_type": "markdown",
   "metadata": {},
   "source": [
    "## Logs Data"
   ]
  },
  {
   "cell_type": "code",
   "execution_count": 15,
   "metadata": {},
   "outputs": [
    {
     "name": "stdout",
     "output_type": "stream",
     "text": [
      "+--------------------+---------+---------+------+-------------+--------+---------+-----+--------------------+------+--------+-----------------+---------+--------------------+------+-------------+--------------------+------+\n",
      "|              artist|     auth|firstName|gender|itemInSession|lastName|   length|level|            location|method|    page|     registration|sessionId|                song|status|           ts|           userAgent|userId|\n",
      "+--------------------+---------+---------+------+-------------+--------+---------+-----+--------------------+------+--------+-----------------+---------+--------------------+------+-------------+--------------------+------+\n",
      "|                null|Logged In|   Walter|     M|            0|    Frye|     null| free|San Francisco-Oak...|   GET|    Home|1.540919166796E12|       38|                null|   200|1541105830796|\"Mozilla/5.0 (Mac...|    39|\n",
      "|                null|Logged In|   Kaylee|     F|            0| Summers|     null| free|Phoenix-Mesa-Scot...|   GET|    Home|1.540344794796E12|      139|                null|   200|1541106106796|\"Mozilla/5.0 (Win...|     8|\n",
      "|             Des'ree|Logged In|   Kaylee|     F|            1| Summers|246.30812| free|Phoenix-Mesa-Scot...|   PUT|NextSong|1.540344794796E12|      139|        You Gotta Be|   200|1541106106796|\"Mozilla/5.0 (Win...|     8|\n",
      "|                null|Logged In|   Kaylee|     F|            2| Summers|     null| free|Phoenix-Mesa-Scot...|   GET| Upgrade|1.540344794796E12|      139|                null|   200|1541106132796|\"Mozilla/5.0 (Win...|     8|\n",
      "|             Mr Oizo|Logged In|   Kaylee|     F|            3| Summers|144.03873| free|Phoenix-Mesa-Scot...|   PUT|NextSong|1.540344794796E12|      139|             Flat 55|   200|1541106352796|\"Mozilla/5.0 (Win...|     8|\n",
      "|          Tamba Trio|Logged In|   Kaylee|     F|            4| Summers|177.18812| free|Phoenix-Mesa-Scot...|   PUT|NextSong|1.540344794796E12|      139|Quem Quiser Encon...|   200|1541106496796|\"Mozilla/5.0 (Win...|     8|\n",
      "|      The Mars Volta|Logged In|   Kaylee|     F|            5| Summers|380.42077| free|Phoenix-Mesa-Scot...|   PUT|NextSong|1.540344794796E12|      139|           Eriatarka|   200|1541106673796|\"Mozilla/5.0 (Win...|     8|\n",
      "|   Infected Mushroom|Logged In|   Kaylee|     F|            6| Summers| 440.2673| free|Phoenix-Mesa-Scot...|   PUT|NextSong|1.540344794796E12|      139|     Becoming Insane|   200|1541107053796|\"Mozilla/5.0 (Win...|     8|\n",
      "|Blue October / Im...|Logged In|   Kaylee|     F|            7| Summers| 241.3971| free|Phoenix-Mesa-Scot...|   PUT|NextSong|1.540344794796E12|      139|     Congratulations|   200|1541107493796|\"Mozilla/5.0 (Win...|     8|\n",
      "|           Girl Talk|Logged In|   Kaylee|     F|            8| Summers|160.15628| free|Phoenix-Mesa-Scot...|   PUT|NextSong|1.540344794796E12|      139|          Once again|   200|1541107734796|\"Mozilla/5.0 (Win...|     8|\n",
      "|     Black Eyed Peas|Logged In|   Sylvie|     F|            0|    Cruz|214.93506| free|Washington-Arling...|   PUT|NextSong|1.540266185796E12|        9|             Pump It|   200|1541108520796|\"Mozilla/5.0 (Mac...|    10|\n",
      "|                null|Logged In|     Ryan|     M|            0|   Smith|     null| free|San Jose-Sunnyval...|   GET|    Home|1.541016707796E12|      169|                null|   200|1541109015796|\"Mozilla/5.0 (X11...|    26|\n",
      "|        Fall Out Boy|Logged In|     Ryan|     M|            1|   Smith|200.72444| free|San Jose-Sunnyval...|   PUT|NextSong|1.541016707796E12|      169|Nobody Puts Baby ...|   200|1541109125796|\"Mozilla/5.0 (X11...|    26|\n",
      "|              M.I.A.|Logged In|     Ryan|     M|            2|   Smith| 233.7171| free|San Jose-Sunnyval...|   PUT|NextSong|1.541016707796E12|      169|Mango Pickle Down...|   200|1541109325796|\"Mozilla/5.0 (X11...|    26|\n",
      "|            Survivor|Logged In|   Jayden|     M|            0|     Fox|245.36771| free|New Orleans-Metai...|   PUT|NextSong|1.541033612796E12|      100|    Eye Of The Tiger|   200|1541110994796|\"Mozilla/5.0 (Win...|   101|\n",
      "+--------------------+---------+---------+------+-------------+--------+---------+-----+--------------------+------+--------+-----------------+---------+--------------------+------+-------------+--------------------+------+\n",
      "\n"
     ]
    }
   ],
   "source": [
    "df_logs = spark.read.json('logs_data.json')\n",
    "df_logs.show()"
   ]
  },
  {
   "cell_type": "code",
   "execution_count": 16,
   "metadata": {},
   "outputs": [
    {
     "name": "stdout",
     "output_type": "stream",
     "text": [
      "root\n",
      " |-- artist: string (nullable = true)\n",
      " |-- auth: string (nullable = true)\n",
      " |-- firstName: string (nullable = true)\n",
      " |-- gender: string (nullable = true)\n",
      " |-- itemInSession: long (nullable = true)\n",
      " |-- lastName: string (nullable = true)\n",
      " |-- length: double (nullable = true)\n",
      " |-- level: string (nullable = true)\n",
      " |-- location: string (nullable = true)\n",
      " |-- method: string (nullable = true)\n",
      " |-- page: string (nullable = true)\n",
      " |-- registration: double (nullable = true)\n",
      " |-- sessionId: long (nullable = true)\n",
      " |-- song: string (nullable = true)\n",
      " |-- status: long (nullable = true)\n",
      " |-- ts: long (nullable = true)\n",
      " |-- userAgent: string (nullable = true)\n",
      " |-- userId: string (nullable = true)\n",
      "\n"
     ]
    }
   ],
   "source": [
    "df_logs.printSchema()"
   ]
  },
  {
   "cell_type": "markdown",
   "metadata": {},
   "source": [
    "#### Time Table"
   ]
  },
  {
   "cell_type": "code",
   "execution_count": 17,
   "metadata": {},
   "outputs": [
    {
     "name": "stdout",
     "output_type": "stream",
     "text": [
      "+-------------------+\n",
      "|                 ts|\n",
      "+-------------------+\n",
      "|2018-11-01 13:57:10|\n",
      "|2018-11-01 14:01:46|\n",
      "|2018-11-01 14:01:46|\n",
      "|2018-11-01 14:02:12|\n",
      "|2018-11-01 14:05:52|\n",
      "|2018-11-01 14:08:16|\n",
      "|2018-11-01 14:11:13|\n",
      "|2018-11-01 14:17:33|\n",
      "|2018-11-01 14:24:53|\n",
      "|2018-11-01 14:28:54|\n",
      "|2018-11-01 14:42:00|\n",
      "|2018-11-01 14:50:15|\n",
      "|2018-11-01 14:52:05|\n",
      "|2018-11-01 14:55:25|\n",
      "|2018-11-01 15:23:14|\n",
      "+-------------------+\n",
      "\n"
     ]
    }
   ],
   "source": [
    "df_time = df_logs.withColumn('ts', from_unixtime(df_logs.ts/1000, 'yyyy-MM-dd HH:mm:ss')) \\\n",
    "                  .select('ts')\n",
    "df_time.show()"
   ]
  },
  {
   "cell_type": "code",
   "execution_count": 18,
   "metadata": {},
   "outputs": [],
   "source": [
    "# df_time.printSchema()"
   ]
  },
  {
   "cell_type": "code",
   "execution_count": 19,
   "metadata": {},
   "outputs": [
    {
     "name": "stdout",
     "output_type": "stream",
     "text": [
      "+----------+----+---+----------+-----+----+--------+\n",
      "| timestamp|hour|day|weekofyear|month|year| weekday|\n",
      "+----------+----+---+----------+-----+----+--------+\n",
      "|1541105830|  13|  1|        44|   11|2018|Thursday|\n",
      "|1541106106|  14|  1|        44|   11|2018|Thursday|\n",
      "|1541106106|  14|  1|        44|   11|2018|Thursday|\n",
      "|1541106132|  14|  1|        44|   11|2018|Thursday|\n",
      "|1541106352|  14|  1|        44|   11|2018|Thursday|\n",
      "|1541106496|  14|  1|        44|   11|2018|Thursday|\n",
      "|1541106673|  14|  1|        44|   11|2018|Thursday|\n",
      "|1541107053|  14|  1|        44|   11|2018|Thursday|\n",
      "|1541107493|  14|  1|        44|   11|2018|Thursday|\n",
      "|1541107734|  14|  1|        44|   11|2018|Thursday|\n",
      "|1541108520|  14|  1|        44|   11|2018|Thursday|\n",
      "|1541109015|  14|  1|        44|   11|2018|Thursday|\n",
      "|1541109125|  14|  1|        44|   11|2018|Thursday|\n",
      "|1541109325|  14|  1|        44|   11|2018|Thursday|\n",
      "|1541110994|  15|  1|        44|   11|2018|Thursday|\n",
      "+----------+----+---+----------+-----+----+--------+\n",
      "\n"
     ]
    }
   ],
   "source": [
    "df_time = df_time.select(unix_timestamp(df_time.ts).alias('timestamp'), \\\n",
    "                       hour(df_time.ts).alias('hour'), \\\n",
    "                       dayofmonth(df_time.ts).alias('day'), \\\n",
    "                       weekofyear(df_time.ts).alias('weekofyear'), \\\n",
    "                       month(df_time.ts).alias('month'), \\\n",
    "                       year(df_time.ts).alias('year'), \\\n",
    "                       date_format(df_time.ts, 'EEEE').alias('weekday'))\n",
    "\n",
    "df_time.show()"
   ]
  },
  {
   "cell_type": "code",
   "execution_count": 20,
   "metadata": {},
   "outputs": [],
   "source": [
    "df_time.write.partitionBy('year', 'month').parquet('time.parquet', mode='overwrite')"
   ]
  },
  {
   "cell_type": "markdown",
   "metadata": {},
   "source": [
    "#### Users Table"
   ]
  },
  {
   "cell_type": "code",
   "execution_count": 21,
   "metadata": {},
   "outputs": [
    {
     "name": "stdout",
     "output_type": "stream",
     "text": [
      "+------+---------+--------+------+-----+\n",
      "|userId|firstName|lastName|gender|level|\n",
      "+------+---------+--------+------+-----+\n",
      "|   101|   Jayden|     Fox|     M| free|\n",
      "|     8|   Kaylee| Summers|     F| free|\n",
      "|    26|     Ryan|   Smith|     M| free|\n",
      "|    10|   Sylvie|    Cruz|     F| free|\n",
      "|    39|   Walter|    Frye|     M| free|\n",
      "+------+---------+--------+------+-----+\n",
      "\n"
     ]
    }
   ],
   "source": [
    "users_table = df_logs.select('userId','firstName','lastName', 'gender', 'level') \\\n",
    "                     .drop_duplicates(subset=['userId'])\n",
    "users_table.show()"
   ]
  },
  {
   "cell_type": "code",
   "execution_count": 22,
   "metadata": {},
   "outputs": [],
   "source": [
    "users_table.write.partitionBy('userId').parquet('users.parquet', mode='overwrite')"
   ]
  },
  {
   "cell_type": "markdown",
   "metadata": {},
   "source": [
    "#### Songplays Table"
   ]
  },
  {
   "cell_type": "code",
   "execution_count": 23,
   "metadata": {},
   "outputs": [
    {
     "name": "stdout",
     "output_type": "stream",
     "text": [
      "+---+-------------+------+-----+-------+---------+---------+--------------------+--------------------+----+-----+\n",
      "| id|           ts|userId|level|song_id|artist_id|sessionId|            location|           userAgent|year|month|\n",
      "+---+-------------+------+-----+-------+---------+---------+--------------------+--------------------+----+-----+\n",
      "| 10|1541108520796|    10| free|   null|     null|        9|Washington-Arling...|\"Mozilla/5.0 (Mac...|2018|   11|\n",
      "|  1|1541106106796|     8| free|   null|     null|      139|Phoenix-Mesa-Scot...|\"Mozilla/5.0 (Win...|2018|   11|\n",
      "| 14|1541110994796|   101| free|   null|     null|      100|New Orleans-Metai...|\"Mozilla/5.0 (Win...|2018|   11|\n",
      "|  0|1541105830796|    39| free|   null|     null|       38|San Francisco-Oak...|\"Mozilla/5.0 (Mac...|2018|   11|\n",
      "| 11|1541109015796|    26| free|   null|     null|      169|San Jose-Sunnyval...|\"Mozilla/5.0 (X11...|2018|   11|\n",
      "+---+-------------+------+-----+-------+---------+---------+--------------------+--------------------+----+-----+\n",
      "\n"
     ]
    }
   ],
   "source": [
    "songplays_table = df_logs.join(df_songs, df_logs.song == df_songs.title, how='left') \\\n",
    "                 .withColumn('id', monotonically_increasing_id()).alias('id') \\\n",
    "                 .select('id', df_logs.ts, \\\n",
    "                         df_logs.userId, df_logs.level, df_songs.song_id, df_songs.artist_id, \\\n",
    "                         df_logs.sessionId, df_logs.location, df_logs.userAgent) \\\n",
    "                 .drop_duplicates(subset=['sessionId']) \\\n",
    "                 .withColumn('year', year(from_unixtime(df_logs.ts/1000, 'yyyy-MM-dd HH:mm:ss'))).alias('year') \\\n",
    "                 .withColumn('month', month(from_unixtime(df_logs.ts/1000, 'yyyy-MM-dd HH:mm:ss'))).alias('month')\n",
    "songplays_table.show()"
   ]
  },
  {
   "cell_type": "code",
   "execution_count": 24,
   "metadata": {},
   "outputs": [],
   "source": [
    "songplays_table.write.partitionBy('year', 'month').parquet('songplays.parquet', mode='overwrite')"
   ]
  },
  {
   "cell_type": "code",
   "execution_count": 25,
   "metadata": {},
   "outputs": [],
   "source": [
    "# a = spark.read.parquet('songplays.parquet')\n",
    "# a.show()"
   ]
  },
  {
   "cell_type": "markdown",
   "metadata": {},
   "source": [
    "## Upload Parquet Files to S3"
   ]
  },
  {
   "cell_type": "code",
   "execution_count": 36,
   "metadata": {},
   "outputs": [],
   "source": [
    "s3_bucket = 'dend-parquet'\n",
    "s3_bucket_region = 'us-west-2'\n",
    "folder = 'songplays.parquet'\n",
    "key_name = folder + '/'"
   ]
  },
  {
   "cell_type": "code",
   "execution_count": 38,
   "metadata": {},
   "outputs": [
    {
     "name": "stdout",
     "output_type": "stream",
     "text": [
      "Bucket: {'ResponseMetadata': {'RequestId': 'EC2A43285EED0CED', 'HostId': 'E6JitwC2iodyogW143ABDQPRQafuvbZyCdYt0eeXNz8hz+SLxpgSiihFiDtGdZG6lgNyaNnHNf4=', 'HTTPStatusCode': 200, 'HTTPHeaders': {'x-amz-id-2': 'E6JitwC2iodyogW143ABDQPRQafuvbZyCdYt0eeXNz8hz+SLxpgSiihFiDtGdZG6lgNyaNnHNf4=', 'x-amz-request-id': 'EC2A43285EED0CED', 'date': 'Mon, 25 Nov 2019 21:24:41 GMT', 'etag': '\"d41d8cd98f00b204e9800998ecf8427e\"', 'content-length': '0', 'server': 'AmazonS3'}, 'RetryAttempts': 1}, 'ETag': '\"d41d8cd98f00b204e9800998ecf8427e\"'}\n"
     ]
    }
   ],
   "source": [
    "s3_connect = boto3.client('s3', s3_bucket_region)\n",
    "bucket = s3_connect.put_object(Bucket=s3_bucket, Key=key_name)\n",
    "print(\"Bucket:\", bucket)"
   ]
  },
  {
   "cell_type": "code",
   "execution_count": null,
   "metadata": {},
   "outputs": [],
   "source": []
  }
 ],
 "metadata": {
  "kernelspec": {
   "display_name": "Python (py37)",
   "language": "python",
   "name": "py37"
  },
  "language_info": {
   "codemirror_mode": {
    "name": "ipython",
    "version": 3
   },
   "file_extension": ".py",
   "mimetype": "text/x-python",
   "name": "python",
   "nbconvert_exporter": "python",
   "pygments_lexer": "ipython3",
   "version": "3.7.4"
  }
 },
 "nbformat": 4,
 "nbformat_minor": 2
}
